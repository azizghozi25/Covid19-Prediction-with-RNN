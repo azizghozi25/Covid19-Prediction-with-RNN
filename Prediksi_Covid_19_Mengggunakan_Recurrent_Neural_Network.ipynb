{
  "nbformat": 4,
  "nbformat_minor": 0,
  "metadata": {
    "colab": {
      "name": "Prediksi Covid-19 Mengggunakan Recurrent Neural Network.ipynb",
      "provenance": [],
      "collapsed_sections": [],
      "include_colab_link": true
    },
    "kernelspec": {
      "name": "python3",
      "display_name": "Python 3"
    },
    "language_info": {
      "name": "python"
    }
  },
  "cells": [
    {
      "cell_type": "markdown",
      "metadata": {
        "id": "view-in-github",
        "colab_type": "text"
      },
      "source": [
        "<a href=\"https://colab.research.google.com/github/azizghozi25/Covid19-Prediction-with-RNN/blob/main/Prediksi_Covid_19_Mengggunakan_Recurrent_Neural_Network.ipynb\" target=\"_parent\"><img src=\"https://colab.research.google.com/assets/colab-badge.svg\" alt=\"Open In Colab\"/></a>"
      ]
    },
    {
      "cell_type": "markdown",
      "source": [
        "Akhdan Aziz Ghozi - Mathematics\n",
        "\n",
        "\n",
        "---\n",
        "\n",
        "\n",
        "This notebook is a big assignment of Komputasi Matematika 3 when I were studying at mathematics department of Institut Teknologi Sumatera. I share this notebook to public in order to share my understanding and obtain if any feedback in order to improve my skills. \n",
        "\n",
        "So, I assigned by my lecturer to predict a case with one of deep learning methods that we have learned before. I have chosen 3 datas about Covid-19 in Lampung Province, those are active case, recovered case, and death case. Besides that, i have chosen Recurrent Neural Network (RNN) Method because RNN is a fprm of artificial neural network architecture designed specifically for processing time series data. RNN can store memory (feedback loop) so that it can recognize data patterns well and then use then to make accurate prediction.\n",
        "\n",
        "There are severel steps that will be done:\n",
        "\n",
        "\n",
        "1.   Step 1 - Loading Data\n",
        "2.   Step 2 - Pre-processing\n",
        "3.   Step 3 - Preparing Model\n",
        "4.   Step 4 - Data Normalization\n",
        "5.   Step 5 - Training Model\n",
        "6.   Step 6 - Prediction"
      ],
      "metadata": {
        "id": "qq1vrFf6sAtz"
      }
    },
    {
      "cell_type": "markdown",
      "source": [
        "# Step 1- Loading Data\n",
        "First, we have to prepare some library that we need. As the main library that handles the prediction part we used library Keras from Tensorflow and the support library used are Numpy, Pandas and Matplotlib."
      ],
      "metadata": {
        "id": "MEbVOuSHzOQ_"
      }
    },
    {
      "cell_type": "code",
      "metadata": {
        "id": "cK_hPLjEmAC0"
      },
      "source": [
        "import numpy as np\n",
        "import matplotlib.pyplot as plt\n",
        "import pandas as pd\n",
        "import seaborn as sns\n",
        "import tensorflow as tf\n",
        "import sklearn\n",
        "import math\n",
        "from tensorflow import keras\n",
        "from sklearn.preprocessing import MinMaxScaler\n",
        "from sklearn.model_selection import train_test_split"
      ],
      "execution_count": 1,
      "outputs": []
    },
    {
      "cell_type": "markdown",
      "source": [
        "Data Covid-19 obtained from https://data.covid19.go.id . Using this website we can obtain the actual datas that updated by day. "
      ],
      "metadata": {
        "id": "twff_dxX10p-"
      }
    },
    {
      "cell_type": "code",
      "metadata": {
        "id": "H0A4qoHMlMvn"
      },
      "source": [
        "import requests\n",
        "resp_lampung = requests.get('https://data.covid19.go.id/public/api/prov_detail_LAMPUNG.json')\n",
        "cov_lampung = resp_lampung.json()\n"
      ],
      "execution_count": 2,
      "outputs": []
    },
    {
      "cell_type": "code",
      "metadata": {
        "colab": {
          "base_uri": "https://localhost:8080/"
        },
        "id": "7qmGTYtRmdLv",
        "outputId": "d9fec900-b7da-4bbb-f73f-dff8b4b6493b"
      },
      "source": [
        "print('elemen utama:\\n', cov_lampung.keys())"
      ],
      "execution_count": 3,
      "outputs": [
        {
          "output_type": "stream",
          "name": "stdout",
          "text": [
            "elemen utama:\n",
            " dict_keys(['last_date', 'provinsi', 'kasus_total', 'kasus_tanpa_tgl', 'kasus_dengan_tgl', 'meninggal_persen', 'meninggal_tanpa_tgl', 'meninggal_dengan_tgl', 'sembuh_persen', 'sembuh_tanpa_tgl', 'sembuh_dengan_tgl', 'list_perkembangan', 'data'])\n"
          ]
        }
      ]
    },
    {
      "cell_type": "code",
      "metadata": {
        "colab": {
          "base_uri": "https://localhost:8080/"
        },
        "id": "gDgE3RHZmuAu",
        "outputId": "10fd01db-ba67-4caf-995d-baf2e83427da"
      },
      "source": [
        "print('\\n Jumlah total kasus di Lampung   : %d' %cov_lampung['kasus_total'])"
      ],
      "execution_count": 4,
      "outputs": [
        {
          "output_type": "stream",
          "name": "stdout",
          "text": [
            "\n",
            " Jumlah total kasus di Lampung   : 74513\n"
          ]
        }
      ]
    },
    {
      "cell_type": "code",
      "metadata": {
        "colab": {
          "base_uri": "https://localhost:8080/"
        },
        "id": "zWwpYGwFnTwP",
        "outputId": "ca80efe7-ec8c-44b5-b3da-f85f130e1d99"
      },
      "source": [
        "cov_lampung = pd.DataFrame(cov_lampung['list_perkembangan'])\n",
        "cov_lampung.info()"
      ],
      "execution_count": 5,
      "outputs": [
        {
          "output_type": "stream",
          "name": "stdout",
          "text": [
            "<class 'pandas.core.frame.DataFrame'>\n",
            "RangeIndex: 828 entries, 0 to 827\n",
            "Data columns (total 9 columns):\n",
            " #   Column                        Non-Null Count  Dtype\n",
            "---  ------                        --------------  -----\n",
            " 0   tanggal                       828 non-null    int64\n",
            " 1   KASUS                         828 non-null    int64\n",
            " 2   MENINGGAL                     828 non-null    int64\n",
            " 3   SEMBUH                        828 non-null    int64\n",
            " 4   DIRAWAT_OR_ISOLASI            828 non-null    int64\n",
            " 5   AKUMULASI_KASUS               828 non-null    int64\n",
            " 6   AKUMULASI_SEMBUH              828 non-null    int64\n",
            " 7   AKUMULASI_MENINGGAL           828 non-null    int64\n",
            " 8   AKUMULASI_DIRAWAT_OR_ISOLASI  828 non-null    int64\n",
            "dtypes: int64(9)\n",
            "memory usage: 58.3 KB\n"
          ]
        }
      ]
    },
    {
      "cell_type": "markdown",
      "source": [
        "# Step 2 - Pre-processing\n"
      ],
      "metadata": {
        "id": "5VWdeg-65RiG"
      }
    },
    {
      "cell_type": "markdown",
      "source": [
        "to make processing data easier, we change our keys to lower and make one column named 'tanggal' in order to make easier to undertanding the datas."
      ],
      "metadata": {
        "id": "gRTOrPjV3yht"
      }
    },
    {
      "cell_type": "code",
      "metadata": {
        "colab": {
          "base_uri": "https://localhost:8080/",
          "height": 206
        },
        "id": "Xe9BKeVPntYP",
        "outputId": "48fa9395-1f10-4d70-c630-deeee3bd469d"
      },
      "source": [
        "cov_lampung_rapih = (cov_lampung.rename(columns=str.lower)\n",
        "                                .rename(columns={'kasus': 'kasus_baru',\n",
        "                                                 'dirawat_or_isolasi': 'isolasi',\n",
        "                                                 'akumulasi_dirawat_or_isolasi': 'akumulasi_isolasi'})\n",
        "                    )\n",
        "cov_lampung_rapih['tanggal'] = pd.to_datetime(cov_lampung_rapih['tanggal']*1e6, unit='ns')\n",
        "cov_lampung_rapih.head()\n"
      ],
      "execution_count": 7,
      "outputs": [
        {
          "output_type": "execute_result",
          "data": {
            "text/plain": [
              "     tanggal  kasus_baru  meninggal  sembuh  isolasi  akumulasi_kasus  \\\n",
              "0 2020-03-26           2          0       0        2                2   \n",
              "1 2020-03-27           1          0       0        1                3   \n",
              "2 2020-03-28           0          0       0        0                3   \n",
              "3 2020-03-29           0          0       0        0                3   \n",
              "4 2020-03-30           4          1       0        3                7   \n",
              "\n",
              "   akumulasi_sembuh  akumulasi_meninggal  akumulasi_isolasi  \n",
              "0                 0                    0                  2  \n",
              "1                 0                    0                  3  \n",
              "2                 0                    0                  3  \n",
              "3                 0                    0                  3  \n",
              "4                 0                    1                  6  "
            ],
            "text/html": [
              "\n",
              "  <div id=\"df-4ad5c990-c530-4d5d-a603-d2acd54ed798\">\n",
              "    <div class=\"colab-df-container\">\n",
              "      <div>\n",
              "<style scoped>\n",
              "    .dataframe tbody tr th:only-of-type {\n",
              "        vertical-align: middle;\n",
              "    }\n",
              "\n",
              "    .dataframe tbody tr th {\n",
              "        vertical-align: top;\n",
              "    }\n",
              "\n",
              "    .dataframe thead th {\n",
              "        text-align: right;\n",
              "    }\n",
              "</style>\n",
              "<table border=\"1\" class=\"dataframe\">\n",
              "  <thead>\n",
              "    <tr style=\"text-align: right;\">\n",
              "      <th></th>\n",
              "      <th>tanggal</th>\n",
              "      <th>kasus_baru</th>\n",
              "      <th>meninggal</th>\n",
              "      <th>sembuh</th>\n",
              "      <th>isolasi</th>\n",
              "      <th>akumulasi_kasus</th>\n",
              "      <th>akumulasi_sembuh</th>\n",
              "      <th>akumulasi_meninggal</th>\n",
              "      <th>akumulasi_isolasi</th>\n",
              "    </tr>\n",
              "  </thead>\n",
              "  <tbody>\n",
              "    <tr>\n",
              "      <th>0</th>\n",
              "      <td>2020-03-26</td>\n",
              "      <td>2</td>\n",
              "      <td>0</td>\n",
              "      <td>0</td>\n",
              "      <td>2</td>\n",
              "      <td>2</td>\n",
              "      <td>0</td>\n",
              "      <td>0</td>\n",
              "      <td>2</td>\n",
              "    </tr>\n",
              "    <tr>\n",
              "      <th>1</th>\n",
              "      <td>2020-03-27</td>\n",
              "      <td>1</td>\n",
              "      <td>0</td>\n",
              "      <td>0</td>\n",
              "      <td>1</td>\n",
              "      <td>3</td>\n",
              "      <td>0</td>\n",
              "      <td>0</td>\n",
              "      <td>3</td>\n",
              "    </tr>\n",
              "    <tr>\n",
              "      <th>2</th>\n",
              "      <td>2020-03-28</td>\n",
              "      <td>0</td>\n",
              "      <td>0</td>\n",
              "      <td>0</td>\n",
              "      <td>0</td>\n",
              "      <td>3</td>\n",
              "      <td>0</td>\n",
              "      <td>0</td>\n",
              "      <td>3</td>\n",
              "    </tr>\n",
              "    <tr>\n",
              "      <th>3</th>\n",
              "      <td>2020-03-29</td>\n",
              "      <td>0</td>\n",
              "      <td>0</td>\n",
              "      <td>0</td>\n",
              "      <td>0</td>\n",
              "      <td>3</td>\n",
              "      <td>0</td>\n",
              "      <td>0</td>\n",
              "      <td>3</td>\n",
              "    </tr>\n",
              "    <tr>\n",
              "      <th>4</th>\n",
              "      <td>2020-03-30</td>\n",
              "      <td>4</td>\n",
              "      <td>1</td>\n",
              "      <td>0</td>\n",
              "      <td>3</td>\n",
              "      <td>7</td>\n",
              "      <td>0</td>\n",
              "      <td>1</td>\n",
              "      <td>6</td>\n",
              "    </tr>\n",
              "  </tbody>\n",
              "</table>\n",
              "</div>\n",
              "      <button class=\"colab-df-convert\" onclick=\"convertToInteractive('df-4ad5c990-c530-4d5d-a603-d2acd54ed798')\"\n",
              "              title=\"Convert this dataframe to an interactive table.\"\n",
              "              style=\"display:none;\">\n",
              "        \n",
              "  <svg xmlns=\"http://www.w3.org/2000/svg\" height=\"24px\"viewBox=\"0 0 24 24\"\n",
              "       width=\"24px\">\n",
              "    <path d=\"M0 0h24v24H0V0z\" fill=\"none\"/>\n",
              "    <path d=\"M18.56 5.44l.94 2.06.94-2.06 2.06-.94-2.06-.94-.94-2.06-.94 2.06-2.06.94zm-11 1L8.5 8.5l.94-2.06 2.06-.94-2.06-.94L8.5 2.5l-.94 2.06-2.06.94zm10 10l.94 2.06.94-2.06 2.06-.94-2.06-.94-.94-2.06-.94 2.06-2.06.94z\"/><path d=\"M17.41 7.96l-1.37-1.37c-.4-.4-.92-.59-1.43-.59-.52 0-1.04.2-1.43.59L10.3 9.45l-7.72 7.72c-.78.78-.78 2.05 0 2.83L4 21.41c.39.39.9.59 1.41.59.51 0 1.02-.2 1.41-.59l7.78-7.78 2.81-2.81c.8-.78.8-2.07 0-2.86zM5.41 20L4 18.59l7.72-7.72 1.47 1.35L5.41 20z\"/>\n",
              "  </svg>\n",
              "      </button>\n",
              "      \n",
              "  <style>\n",
              "    .colab-df-container {\n",
              "      display:flex;\n",
              "      flex-wrap:wrap;\n",
              "      gap: 12px;\n",
              "    }\n",
              "\n",
              "    .colab-df-convert {\n",
              "      background-color: #E8F0FE;\n",
              "      border: none;\n",
              "      border-radius: 50%;\n",
              "      cursor: pointer;\n",
              "      display: none;\n",
              "      fill: #1967D2;\n",
              "      height: 32px;\n",
              "      padding: 0 0 0 0;\n",
              "      width: 32px;\n",
              "    }\n",
              "\n",
              "    .colab-df-convert:hover {\n",
              "      background-color: #E2EBFA;\n",
              "      box-shadow: 0px 1px 2px rgba(60, 64, 67, 0.3), 0px 1px 3px 1px rgba(60, 64, 67, 0.15);\n",
              "      fill: #174EA6;\n",
              "    }\n",
              "\n",
              "    [theme=dark] .colab-df-convert {\n",
              "      background-color: #3B4455;\n",
              "      fill: #D2E3FC;\n",
              "    }\n",
              "\n",
              "    [theme=dark] .colab-df-convert:hover {\n",
              "      background-color: #434B5C;\n",
              "      box-shadow: 0px 1px 3px 1px rgba(0, 0, 0, 0.15);\n",
              "      filter: drop-shadow(0px 1px 2px rgba(0, 0, 0, 0.3));\n",
              "      fill: #FFFFFF;\n",
              "    }\n",
              "  </style>\n",
              "\n",
              "      <script>\n",
              "        const buttonEl =\n",
              "          document.querySelector('#df-4ad5c990-c530-4d5d-a603-d2acd54ed798 button.colab-df-convert');\n",
              "        buttonEl.style.display =\n",
              "          google.colab.kernel.accessAllowed ? 'block' : 'none';\n",
              "\n",
              "        async function convertToInteractive(key) {\n",
              "          const element = document.querySelector('#df-4ad5c990-c530-4d5d-a603-d2acd54ed798');\n",
              "          const dataTable =\n",
              "            await google.colab.kernel.invokeFunction('convertToInteractive',\n",
              "                                                     [key], {});\n",
              "          if (!dataTable) return;\n",
              "\n",
              "          const docLinkHtml = 'Like what you see? Visit the ' +\n",
              "            '<a target=\"_blank\" href=https://colab.research.google.com/notebooks/data_table.ipynb>data table notebook</a>'\n",
              "            + ' to learn more about interactive tables.';\n",
              "          element.innerHTML = '';\n",
              "          dataTable['output_type'] = 'display_data';\n",
              "          await google.colab.output.renderOutput(dataTable, element);\n",
              "          const docLink = document.createElement('div');\n",
              "          docLink.innerHTML = docLinkHtml;\n",
              "          element.appendChild(docLink);\n",
              "        }\n",
              "      </script>\n",
              "    </div>\n",
              "  </div>\n",
              "  "
            ]
          },
          "metadata": {},
          "execution_count": 7
        }
      ]
    },
    {
      "cell_type": "markdown",
      "source": [
        "But, we didn't use entire data that will be process. We use 368 days from 26 March 2020 for each cases. So, Active Case contain 368 days, Recoverd Case contain 368 days, so do Death Case. Active case named 'akumulasi_kasus', Recovered Case named 'akumulasi_sembuh', Death Case named 'akumulasi_meninggal'."
      ],
      "metadata": {
        "id": "2nQpQOOF5nWs"
      }
    },
    {
      "cell_type": "code",
      "metadata": {
        "colab": {
          "base_uri": "https://localhost:8080/",
          "height": 279
        },
        "id": "5_mkEvALuUX7",
        "outputId": "c3238391-8a27-48e5-ef1a-1c6c85f58869"
      },
      "source": [
        "dk=cov_lampung_rapih.loc[:367,'akumulasi_kasus']\n",
        "dataset = dk.values\n",
        "TotKasus = dataset.astype('float32')\n",
        "TotKasus = np.array(TotKasus.reshape(-1,1))\n",
        "\n",
        "ds=cov_lampung_rapih.loc[:367,'akumulasi_sembuh']\n",
        "dataset = ds.values\n",
        "TotSembuh = dataset.astype('float32')\n",
        "TotSembuh = np.array(TotSembuh.reshape(-1,1))\n",
        "\n",
        "dm=cov_lampung_rapih.loc[:367,'akumulasi_meninggal']\n",
        "dataset = dm.values\n",
        "TotMeninggal = dataset.astype('float32')\n",
        "TotMeninggal = np.array(TotMeninggal.reshape(-1,1))\n",
        " \n",
        "plt.plot(TotKasus, label='Active Case')\n",
        "plt.plot(TotSembuh,'--', label='Recovered Case')\n",
        "plt.plot(TotMeninggal,'-.', label='Death Case') \n",
        "plt.xlabel('Time (in a day)')\n",
        "plt.ylabel('Population')\n",
        "plt.legend()\n",
        "plt.show()"
      ],
      "execution_count": 8,
      "outputs": [
        {
          "output_type": "display_data",
          "data": {
            "text/plain": [
              "<Figure size 432x288 with 1 Axes>"
            ],
            "image/png": "[encoded data removed]"
          },
          "metadata": {
            "needs_background": "light"
          }
        }
      ]
    },
    {
      "cell_type": "markdown",
      "source": [
        "Before continue to next step, i will introduce about some function that we will use, there are :"
      ],
      "metadata": {
        "id": "Bh32HVCD76Rg"
      }
    },
    {
      "cell_type": "markdown",
      "source": [
        "- matriks( ), this function divide data into X and Y that contain lookback, both data shaped as array."
      ],
      "metadata": {
        "id": "L-z4NhRM8QKi"
      }
    },
    {
      "cell_type": "code",
      "metadata": {
        "id": "ya9MpGFa1Q-L"
      },
      "source": [
        "def matriks(data_arr, look_back):\n",
        "  X, Y =[], []\n",
        "  for i in range(len(data_arr)-look_back):\n",
        "    d=i+look_back  \n",
        "    X.append(data_arr[i:d])\n",
        "    Y.append(data_arr[d])\n",
        " \n",
        "  X = np.array(X)\n",
        "  Y = np.array(Y)\n",
        "  \n",
        "  return X, Y"
      ],
      "execution_count": 9,
      "outputs": []
    },
    {
      "cell_type": "markdown",
      "source": [
        "- hoho( ), this function separate both data before, X and Y, to data train and data test. So, until here we will have 4 data for each case."
      ],
      "metadata": {
        "id": "o0_wNYNV9nXl"
      }
    },
    {
      "cell_type": "code",
      "source": [
        "def hoho (rand,lookback): \n",
        "  s = int(len(rand)*0.8) \n",
        "  x, y = matriks(rand, look_back) \n",
        "  x = np.reshape(x, (x.shape[0], 1, x.shape[1])) \n",
        "  xTrain , yTrain,xTest,yTest= x[0:s,:],y[0:s,:], x[s:,:],y[s:,:]\n",
        "  \n",
        "  return xTrain , yTrain,xTest, yTest"
      ],
      "metadata": {
        "id": "beRYYu8j9Re6"
      },
      "execution_count": 10,
      "outputs": []
    },
    {
      "cell_type": "markdown",
      "source": [
        "- scale_invers( ), this function has two output, first scaling data between 0 and 1, second restore data to real data."
      ],
      "metadata": {
        "id": "rxOptFY_CeHt"
      }
    },
    {
      "cell_type": "code",
      "source": [
        "def scale_invers (kasus,model):\n",
        "  scaler =MinMaxScaler(feature_range=(0,1))\n",
        "  rand=scaler.fit_transform(kasus)\n",
        "  r = scaler.inverse_transform(model)\n",
        "  return rand,r"
      ],
      "metadata": {
        "id": "JnlU0Z2b9TlG"
      },
      "execution_count": 11,
      "outputs": []
    },
    {
      "cell_type": "markdown",
      "source": [
        "- model_loss( ), this function will plot loss data. The smaller loss , the smaller the loss the better the model. "
      ],
      "metadata": {
        "id": "ATd4Xso7Dhjf"
      }
    },
    {
      "cell_type": "code",
      "source": [
        "def model_loss(history,case):\n",
        "    \n",
        "    plt.figure(figsize=(8,4))\n",
        "    plt.plot(history.history['loss'], label='Train Loss')\n",
        "    #plt.title('model loss'+ str(case))\n",
        "    plt.ylabel('loss')\n",
        "    plt.xlabel('epochs')\n",
        "    plt.savefig('loss.png', dpi=100)\n",
        "    plt.show();"
      ],
      "metadata": {
        "id": "SGwfXJaq9T4l"
      },
      "execution_count": 12,
      "outputs": []
    },
    {
      "cell_type": "markdown",
      "source": [
        "# Step 3 - Preparing Model\n",
        "This section, we prepare architecture of RNN. Besides that, we use MSE as loss function and 'adam' as optimizer with lookback as much as 5. We use 1 input layer with  5 neuron, 3 hidden layer with 50, 25 and 20 neuron for each layer, and 1 output layer. so far, I have not found a standard rule regarding many neurons in the model in order to get the result\n",
        "optimal, then in this study it is determined to select several many neurons then compare the results of the model obtained optimal."
      ],
      "metadata": {
        "id": "YZqAvfbOEPKC"
      }
    },
    {
      "cell_type": "code",
      "metadata": {
        "id": "L7F46pHW1SjN"
      },
      "source": [
        "look_back =5\n",
        "\n",
        "model = tf.keras.Sequential()\n",
        "model.add(tf.keras.layers.SimpleRNN(units=50, input_dim=look_back, activation='relu')) #Hiden layer 1\n",
        "model.add(tf.keras.layers.Dense(25, activation='relu')) \n",
        "model.add(tf.keras.layers.Dense(20, activation='relu'))\n",
        "model.add(tf.keras.layers.Dense(1)) #output\n",
        "model.compile(loss='mean_squared_error',  optimizer='adam',metrics = ['mse', 'mae'])\n",
        "  "
      ],
      "execution_count": 13,
      "outputs": []
    },
    {
      "cell_type": "markdown",
      "source": [
        "# Step 4 - Data Normalization\n",
        "In this section we use functions that we made before. First, scaling data. And then, we separate data.  "
      ],
      "metadata": {
        "id": "9rsKkeHJF4Dc"
      }
    },
    {
      "cell_type": "markdown",
      "source": [
        "As example, we just use one case that is Death Case. From this section until last section we use that case. If all done, we can change the case with another case. At least, that what i was done."
      ],
      "metadata": {
        "id": "HAeTYgghGX59"
      }
    },
    {
      "cell_type": "code",
      "metadata": {
        "id": "wJx1m-941ZPI",
        "colab": {
          "base_uri": "https://localhost:8080/",
          "height": 265
        },
        "outputId": "b3fcad2f-5058-4299-e0f7-65d7c73ca01d"
      },
      "source": [
        "randKasus,rKasus=scale_invers(TotMeninggal,TotMeninggal)\n",
        "plt.plot(randKasus, label='Model Kasus')\n",
        "plt.legend()\n",
        "plt.show()"
      ],
      "execution_count": 14,
      "outputs": [
        {
          "output_type": "display_data",
          "data": {
            "text/plain": [
              "<Figure size 432x288 with 1 Axes>"
            ],
            "image/png": "[encoded data removed]"
          },
          "metadata": {
            "needs_background": "light"
          }
        }
      ]
    },
    {
      "cell_type": "code",
      "metadata": {
        "id": "7PDt2e-13N4q"
      },
      "source": [
        "xTrain ,yTrain, xTest, yTest = hoho(randKasus,look_back)"
      ],
      "execution_count": 15,
      "outputs": []
    },
    {
      "cell_type": "markdown",
      "source": [
        "# Step 5 - Training Model\n",
        "This section did after we separate both X and Y data to train and test data for each data. We use several epoch for fitting the model to find the model. Finally, we use epoch 100 because not too little and too much neither. so far I have not found a standard rule regarding many epoch in the model in order to get the result optimal, then in this study it is determined to select several many epoch then\n",
        "compare the results of the model obtained optimal."
      ],
      "metadata": {
        "id": "CnM5BrKMHP4b"
      }
    },
    {
      "cell_type": "code",
      "metadata": {
        "id": "lViNyHcj3A6N",
        "colab": {
          "base_uri": "https://localhost:8080/",
          "height": 283
        },
        "outputId": "a7b1bce4-bf44-472a-f580-6d5c04c5880c"
      },
      "source": [
        "history1 = model.fit(xTrain, yTrain, epochs=100,verbose=0)\n",
        "model_loss(history1,' Aktif')"
      ],
      "execution_count": 16,
      "outputs": [
        {
          "output_type": "display_data",
          "data": {
            "text/plain": [
              "<Figure size 576x288 with 1 Axes>"
            ],
            "image/png": "[encoded data removed]"
          },
          "metadata": {
            "needs_background": "light"
          }
        }
      ]
    },
    {
      "cell_type": "code",
      "metadata": {
        "id": "GQGQBM3j-o9b"
      },
      "source": [
        "trainPredictKasus = model.predict(xTrain)\n",
        "testPredictKasus = model.predict(xTest)"
      ],
      "execution_count": 20,
      "outputs": []
    },
    {
      "cell_type": "code",
      "metadata": {
        "id": "b26PqLEK-qyf",
        "colab": {
          "base_uri": "https://localhost:8080/"
        },
        "outputId": "9ac4ffa4-4f20-4b3e-c15e-da7c997d5c6b"
      },
      "source": [
        "trainScore = np.sqrt(np.mean(yTrain[:,0] - trainPredictKasus[:,0])**2)\n",
        "print('Train Score Kasus: %.7f RMSE'%(trainScore))\n",
        "testScore = np.sqrt(np.mean(yTest[:,0] - testPredictKasus[:,0])**2)\n",
        "print('Test Score Kasus: %.7f RMSE'%(testScore))"
      ],
      "execution_count": 21,
      "outputs": [
        {
          "output_type": "stream",
          "name": "stdout",
          "text": [
            "Train Score Kasus: 0.0004316 RMSE\n",
            "Test Score Kasus: 0.0147404 RMSE\n"
          ]
        }
      ]
    },
    {
      "cell_type": "code",
      "metadata": {
        "id": "59znjQ9S-9mR",
        "colab": {
          "base_uri": "https://localhost:8080/"
        },
        "outputId": "34e49006-b00b-4eea-a404-d1c988602890"
      },
      "source": [
        "akurasi_train = (1-trainScore)*100\n",
        "akurasi_test = (1-testScore)*100\n",
        "print('Accuracy Train Score Kasus: %.7f'%(akurasi_train)+'%')\n",
        "print('Accuracy Test Score Kasus: %.7f'%(akurasi_test)+'%')"
      ],
      "execution_count": 22,
      "outputs": [
        {
          "output_type": "stream",
          "name": "stdout",
          "text": [
            "Accuracy Train Score Kasus: 99.9568357%\n",
            "Accuracy Test Score Kasus: 98.5259620%\n"
          ]
        }
      ]
    },
    {
      "cell_type": "code",
      "metadata": {
        "id": "rnLDrOMG_AWj"
      },
      "source": [
        "rand, trainPredictKasus = scale_invers(TotMeninggal,trainPredictKasus)\n",
        "rand, yTrain = scale_invers(TotMeninggal,yTrain)\n",
        "rand, testPredictKasus =scale_invers(TotMeninggal,testPredictKasus)\n",
        "rand, yTest = scale_invers(TotMeninggal,yTest)\n",
        " \n",
        "rr, rrr =scale_invers(TotMeninggal,randKasus)\n"
      ],
      "execution_count": 23,
      "outputs": []
    },
    {
      "cell_type": "code",
      "metadata": {
        "id": "ugRhCgR1UKU9",
        "colab": {
          "base_uri": "https://localhost:8080/",
          "height": 292
        },
        "outputId": "768e9149-1779-4095-e0f0-61190cfe98a8"
      },
      "source": [
        "fig= plt.figure()\n",
        "axes1 = fig.add_axes([0.15,0.15,0.8,0.8])\n",
        "axes2 = fig.add_axes([0.25,0.45,0.45,0.45])\n",
        "axes1.plot(rrr, '-y',\n",
        "           t[look_back:len(trainPredictKasus)+look_back],trainPredictKasus,'--b',        \n",
        "           t[len(trainPredictKasus)+look_back:], yTest,'-g',       \n",
        "           t[len(trainPredictKasus)+look_back:], testPredictKasus,'--r' \n",
        "           ) \n",
        "axes2.plot(t[len(trainPredictKasus)+look_back:], testPredictKasus,'--r',\n",
        "           t[len(trainPredictKasus)+look_back:],yTest,'-g')\n",
        "axes1.set_ylabel('Jiwa')\n",
        "axes1.set_xlabel('Hari ke-')\n",
        "axes1.legend(['Data Train Kematian', 'Hasil Train Kematian', 'Data Test Kematian','Hasil Test Kematian'], \n",
        "             loc='lower right', fontsize=7)\n",
        "plt.savefig('rnnmodel.png', dpi=300 )\n"
      ],
      "execution_count": 24,
      "outputs": [
        {
          "output_type": "display_data",
          "data": {
            "text/plain": [
              "<Figure size 432x288 with 2 Axes>"
            ],
            "image/png": "[encoded data removed]"
          },
          "metadata": {
            "needs_background": "light"
          }
        }
      ]
    },
    {
      "cell_type": "markdown",
      "source": [
        "The plot above show us about RNN prediction model with 5 look back and several parameter tuning that good enough for predictions. So from this architecture of RNN we can use for prediction the case for several days ago.   "
      ],
      "metadata": {
        "id": "HXfIWLZiM2mG"
      }
    },
    {
      "cell_type": "markdown",
      "source": [
        "# Step 6 - Prediction"
      ],
      "metadata": {
        "id": "irzqdyeSPhY4"
      }
    },
    {
      "cell_type": "markdown",
      "source": [
        "# In other way\n",
        "I make simple code in other way to prediction without RNN but i think this code should be improve. "
      ],
      "metadata": {
        "id": "BagEgdngN4J7"
      }
    },
    {
      "cell_type": "code",
      "metadata": {
        "id": "2r44yglF7HyU",
        "colab": {
          "base_uri": "https://localhost:8080/"
        },
        "outputId": "b7189451-7d06-41b4-c084-27ebc771cedf"
      },
      "source": [
        "t = np.arange(len(randKasus))\n",
        "dk=cov_lampung_rapih.loc[:367,'akumulasi_meninggal']\n",
        "dk=dk.values\n",
        "dk = dk.reshape(-1,1)\n",
        "dk[-1]"
      ],
      "execution_count": 25,
      "outputs": [
        {
          "output_type": "execute_result",
          "data": {
            "text/plain": [
              "array([748])"
            ]
          },
          "metadata": {},
          "execution_count": 25
        }
      ]
    },
    {
      "cell_type": "code",
      "metadata": {
        "id": "CxfbxwKb7Pp5",
        "colab": {
          "base_uri": "https://localhost:8080/"
        },
        "outputId": "14c7514c-618b-41d5-c049-51fc306adba4"
      },
      "source": [
        "mmscaler = MinMaxScaler(feature_range=(0, 1))\n",
        "last_sms_scaled = mmscaler.fit_transform(dk[-look_back:])\n",
        "\n",
        "X_test = []\n",
        "X_test.append(last_sms_scaled)\n",
        "\n",
        "X_test = np.array(X_test)\n",
        "X_test = np.reshape(X_test, (X_test.shape[0], X_test.shape[0],look_back))\n",
        "\n",
        "pred_smp = model.predict(X_test)\n",
        "pred_smp_unscaled = mmscaler.inverse_transform(pred_smp)\n",
        "\n",
        "smp_today = round(dk.ravel()[-1], 0)\n",
        "predicted_smp = round(pred_smp_unscaled.ravel()[0], 0)\n",
        "\n",
        "print(f'Jumlah Kasus Kematian Terbaru :{smp_today}')\n",
        "print(f'Prediksi Jumlah Kasus Kematian Satu hari ke Depan : {predicted_smp}')\n"
      ],
      "execution_count": 26,
      "outputs": [
        {
          "output_type": "stream",
          "name": "stdout",
          "text": [
            "Jumlah Kasus Kematian Terbaru :748\n",
            "Prediksi Jumlah Kasus Kematian Satu hari ke Depan : 740.0\n"
          ]
        }
      ]
    }
  ]
}